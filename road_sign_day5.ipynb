{
  "nbformat": 4,
  "nbformat_minor": 0,
  "metadata": {
    "colab": {
      "name": "road-sign-day5.ipynb",
      "provenance": [],
      "include_colab_link": true
    },
    "kernelspec": {
      "name": "python3",
      "display_name": "Python 3"
    },
    "accelerator": "GPU"
  },
  "cells": [
    {
      "cell_type": "markdown",
      "metadata": {
        "id": "view-in-github",
        "colab_type": "text"
      },
      "source": [
        "<a href=\"https://colab.research.google.com/github/pjablonski123/dw_matrix/blob/master/road_sign_day5.ipynb\" target=\"_parent\"><img src=\"https://colab.research.google.com/assets/colab-badge.svg\" alt=\"Open In Colab\"/></a>"
      ]
    },
    {
      "cell_type": "code",
      "metadata": {
        "id": "KdC7cQRylY0C",
        "colab_type": "code",
        "outputId": "c3d6ed0d-e65a-441e-8f28-7e08dd645e30",
        "colab": {
          "base_uri": "https://localhost:8080/",
          "height": 190
        }
      },
      "source": [
        "!pip install hyperopt"
      ],
      "execution_count": 1,
      "outputs": [
        {
          "output_type": "stream",
          "text": [
            "Requirement already satisfied: hyperopt in /usr/local/lib/python3.6/dist-packages (0.1.2)\n",
            "Requirement already satisfied: future in /usr/local/lib/python3.6/dist-packages (from hyperopt) (0.16.0)\n",
            "Requirement already satisfied: pymongo in /usr/local/lib/python3.6/dist-packages (from hyperopt) (3.10.1)\n",
            "Requirement already satisfied: numpy in /usr/local/lib/python3.6/dist-packages (from hyperopt) (1.18.2)\n",
            "Requirement already satisfied: tqdm in /usr/local/lib/python3.6/dist-packages (from hyperopt) (4.38.0)\n",
            "Requirement already satisfied: six in /usr/local/lib/python3.6/dist-packages (from hyperopt) (1.12.0)\n",
            "Requirement already satisfied: scipy in /usr/local/lib/python3.6/dist-packages (from hyperopt) (1.4.1)\n",
            "Requirement already satisfied: networkx in /usr/local/lib/python3.6/dist-packages (from hyperopt) (2.4)\n",
            "Requirement already satisfied: decorator>=4.3.0 in /usr/local/lib/python3.6/dist-packages (from networkx->hyperopt) (4.4.2)\n"
          ],
          "name": "stdout"
        }
      ]
    },
    {
      "cell_type": "code",
      "metadata": {
        "id": "qUFu5HC1ln4F",
        "colab_type": "code",
        "colab": {}
      },
      "source": [
        "import pandas as pd\n",
        "import numpy as np\n",
        "import os\n",
        "import datetime\n",
        "\n",
        "import tensorflow as tf\n",
        "from tensorflow.keras.models import Sequential\n",
        "from tensorflow.keras.layers import Conv2D, MaxPool2D, Dense, Flatten, Dropout\n",
        "from tensorflow.keras.utils import to_categorical\n",
        "\n",
        "%load_ext tensorboard\n",
        "\n",
        "import matplotlib.pyplot as plt\n",
        "from skimage import color, exposure\n",
        "\n",
        "from sklearn.metrics import accuracy_score\n",
        "\n",
        "from hyperopt import hp, STATUS_OK, tpe, Trials, fmin"
      ],
      "execution_count": 0,
      "outputs": []
    },
    {
      "cell_type": "code",
      "metadata": {
        "id": "rbPquS64lryR",
        "colab_type": "code",
        "outputId": "4b7ae7fd-695a-4889-f68d-52498ea39f47",
        "colab": {
          "base_uri": "https://localhost:8080/",
          "height": 34
        }
      },
      "source": [
        "cd '/content/drive/My Drive/Colab Notebooks/dw_matrix/matrix_three/dw_matrix_road_sign'"
      ],
      "execution_count": 3,
      "outputs": [
        {
          "output_type": "stream",
          "text": [
            "/content/drive/My Drive/Colab Notebooks/dw_matrix/matrix_three/dw_matrix_road_sign\n"
          ],
          "name": "stdout"
        }
      ]
    },
    {
      "cell_type": "code",
      "metadata": {
        "id": "NFMVpbbHlwrh",
        "colab_type": "code",
        "colab": {}
      },
      "source": [
        "train = pd.read_pickle('data/train.p')\n",
        "test = pd.read_pickle('data/test.p')\n",
        "\n",
        "X_train, y_train = train['features'], train['labels']\n",
        "X_test, y_test = test['features'], test['labels']"
      ],
      "execution_count": 0,
      "outputs": []
    },
    {
      "cell_type": "code",
      "metadata": {
        "id": "4COOm_jBrovc",
        "colab_type": "code",
        "colab": {}
      },
      "source": [
        "if y_train.ndim == 1: y_train = to_categorical(y_train)\n",
        "if y_test.ndim == 1: y_test = to_categorical(y_test)"
      ],
      "execution_count": 0,
      "outputs": []
    },
    {
      "cell_type": "code",
      "metadata": {
        "id": "3TltoH9qrqk7",
        "colab_type": "code",
        "colab": {}
      },
      "source": [
        "input_shape = X_train.shape[1:]\n",
        "num_classes = y_train.shape[1]"
      ],
      "execution_count": 0,
      "outputs": []
    },
    {
      "cell_type": "code",
      "metadata": {
        "id": "pRdjCzlorszc",
        "colab_type": "code",
        "colab": {}
      },
      "source": [
        "def train_model(model, X_train, y_train, params_fit={}):\n",
        "  model.compile(loss='categorical_crossentropy', optimizer='Adam', metrics=['accuracy'])\n",
        "  \n",
        "  logdir = os.path.join(\"logs\", datetime.datetime.now().strftime(\"%Y%m%d-%H%M%S\"))\n",
        "  tensorboard_callback = tf.keras.callbacks.TensorBoard(logdir, histogram_freq=1)\n",
        "\n",
        "  model.fit(\n",
        "      X_train, \n",
        "      y_train,\n",
        "      batch_size=params_fit.get('batch_size', 128),\n",
        "      epochs=params_fit.get('epochs', 5),\n",
        "      verbose=params_fit.get('verbose', 1),\n",
        "      validation_data=params_fit.get('validation_data', (X_train, y_train)),\n",
        "      callbacks = [tensorboard_callback]\n",
        "      )\n",
        "  return model\n",
        "\n",
        "def predict(model_trained, X_test, y_test, scoring=accuracy_score):\n",
        "\n",
        "  y_test_norm = np.argmax(y_test, axis=1)\n",
        "\n",
        "  y_pred_prob = model_trained.predict(X_test)\n",
        "  y_pred = np.argmax(y_pred_prob, axis=1)\n",
        "\n",
        "  return scoring(y_test_norm, y_pred)"
      ],
      "execution_count": 0,
      "outputs": []
    },
    {
      "cell_type": "code",
      "metadata": {
        "id": "uZ1M9xC7r3mX",
        "colab_type": "code",
        "colab": {}
      },
      "source": [
        "def get_cnn_v5(input_shape, num_classes):\n",
        "  return Sequential((\n",
        "    Conv2D(filters=32, kernel_size=(3,3), activation='relu', input_shape=input_shape),\n",
        "    Conv2D(filters=32, kernel_size=(3,3), activation='relu', padding='same'),\n",
        "    MaxPool2D(),\n",
        "    Dropout(0.3),\n",
        "\n",
        "    Conv2D(filters=64, kernel_size=(3,3), activation='relu', padding='same'),\n",
        "    Conv2D(filters=64, kernel_size=(3,3), activation='relu'),\n",
        "    MaxPool2D(),\n",
        "    Dropout(0.3),\n",
        "\n",
        "    Conv2D(filters=64, kernel_size=(3,3), activation='relu', padding='same'),\n",
        "    Conv2D(filters=64, kernel_size=(3,3), activation='relu'),\n",
        "    MaxPool2D(),\n",
        "    Dropout(0.3),\n",
        "\n",
        "    Flatten(),\n",
        "\n",
        "    Dense(1024, activation='relu'),\n",
        "    Dropout(0.3),\n",
        "    \n",
        "    Dense(1024, activation='relu'),\n",
        "    Dropout(0.3),\n",
        "\n",
        "    Dense(num_classes, activation='softmax'),\n",
        "))"
      ],
      "execution_count": 0,
      "outputs": []
    },
    {
      "cell_type": "code",
      "metadata": {
        "id": "HXbBGGmksC8K",
        "colab_type": "code",
        "outputId": "6cc210a7-23be-46d5-8658-e152cb7520d6",
        "colab": {
          "base_uri": "https://localhost:8080/",
          "height": 224
        }
      },
      "source": [
        "model = get_cnn_v5(input_shape, num_classes)\n",
        "model_trained = train_model(model, X_train, y_train)\n",
        "\n",
        "predict(model_trained, X_test, y_test)"
      ],
      "execution_count": 10,
      "outputs": [
        {
          "output_type": "stream",
          "text": [
            "Epoch 1/5\n",
            "272/272 [==============================] - 4s 16ms/step - loss: 2.5613 - accuracy: 0.3071 - val_loss: 0.9122 - val_accuracy: 0.7298\n",
            "Epoch 2/5\n",
            "272/272 [==============================] - 4s 15ms/step - loss: 0.6974 - accuracy: 0.7813 - val_loss: 0.1542 - val_accuracy: 0.9545\n",
            "Epoch 3/5\n",
            "272/272 [==============================] - 4s 15ms/step - loss: 0.3147 - accuracy: 0.9048 - val_loss: 0.0663 - val_accuracy: 0.9814\n",
            "Epoch 4/5\n",
            "272/272 [==============================] - 4s 15ms/step - loss: 0.2168 - accuracy: 0.9361 - val_loss: 0.0657 - val_accuracy: 0.9814\n",
            "Epoch 5/5\n",
            "272/272 [==============================] - 4s 15ms/step - loss: 0.1647 - accuracy: 0.9531 - val_loss: 0.0481 - val_accuracy: 0.9859\n"
          ],
          "name": "stdout"
        },
        {
          "output_type": "execute_result",
          "data": {
            "text/plain": [
              "0.9605442176870749"
            ]
          },
          "metadata": {
            "tags": []
          },
          "execution_count": 10
        }
      ]
    },
    {
      "cell_type": "code",
      "metadata": {
        "id": "A9_21tQVsRib",
        "colab_type": "code",
        "outputId": "b2a4450d-288b-409d-a223-63d7d55f4719",
        "colab": {
          "base_uri": "https://localhost:8080/",
          "height": 51
        }
      },
      "source": [
        "model_trained.evaluate(X_test, y_test)[1]\n"
      ],
      "execution_count": 11,
      "outputs": [
        {
          "output_type": "stream",
          "text": [
            "138/138 [==============================] - 0s 4ms/step - loss: 0.1850 - accuracy: 0.9605\n"
          ],
          "name": "stdout"
        },
        {
          "output_type": "execute_result",
          "data": {
            "text/plain": [
              "0.960544228553772"
            ]
          },
          "metadata": {
            "tags": []
          },
          "execution_count": 11
        }
      ]
    },
    {
      "cell_type": "code",
      "metadata": {
        "id": "pfXZbtEXs3vF",
        "colab_type": "code",
        "colab": {}
      },
      "source": [
        "def get_model(params):\n",
        "  return Sequential((\n",
        "    Conv2D(filters=32, kernel_size=(3,3), activation='relu', input_shape=input_shape),  \n",
        "    Conv2D(filters=32, kernel_size=(3,3), activation='relu', padding='same'),\n",
        "    MaxPool2D(),\n",
        "    Dropout(params['dropout_cnn_block_one']),\n",
        "\n",
        "    Conv2D(filters=64, kernel_size=(3,3), activation='relu', padding='same'),\n",
        "    Conv2D(filters=64, kernel_size=(3,3), activation='relu'),\n",
        "    MaxPool2D(),\n",
        "    Dropout(params['dropout_cnn_block_two']),\n",
        "\n",
        "    Conv2D(filters=128, kernel_size=(3,3), activation='relu', padding='same'),\n",
        "    Conv2D(filters=128, kernel_size=(3,3), activation='relu'),\n",
        "    MaxPool2D(),\n",
        "    Dropout(params['dropout_cnn_block_three']),\n",
        "\n",
        "    Flatten(),\n",
        "\n",
        "    Dense(1024, activation='relu'),\n",
        "    Dropout(params['dropout_dense_block_one']),\n",
        "    \n",
        "    Dense(1024, activation='relu'),\n",
        "    Dropout(params['dropout_dense_block_two']),\n",
        "\n",
        "    Dense(num_classes, activation='softmax'),\n",
        "))"
      ],
      "execution_count": 0,
      "outputs": []
    },
    {
      "cell_type": "code",
      "metadata": {
        "id": "B741g-09sR1q",
        "colab_type": "code",
        "colab": {}
      },
      "source": [
        "def func_obj(params):\n",
        "  model = get_model(params)\n",
        "  model.compile(loss='categorical_crossentropy', optimizer='Adam', metrics=['accuracy'])\n",
        "  \n",
        "  logdir = os.path.join(\"logs\", datetime.datetime.now().strftime(\"%Y%m%d-%H%M%S\"))\n",
        "  tensorboard_callback = tf.keras.callbacks.TensorBoard(logdir, histogram_freq=1)\n",
        "\n",
        "  model.fit(\n",
        "      X_train, \n",
        "      y_train,\n",
        "      batch_size=int(params.get('batch_size', 128)),\n",
        "      epochs=5,\n",
        "      verbose=0,\n",
        "      )\n",
        "  \n",
        "  score = model.evaluate(X_test, y_test, verbose=0)\n",
        "  accuracy = score[1]\n",
        "  print(params, 'accuracy={}'.format(accuracy))\n",
        "\n",
        "  return {'loss': -accuracy, 'status': STATUS_OK, 'model': model}"
      ],
      "execution_count": 0,
      "outputs": []
    },
    {
      "cell_type": "code",
      "metadata": {
        "id": "u_2blGFjszoD",
        "colab_type": "code",
        "outputId": "3c97865a-ad2c-4c73-9b12-9f0342a64af6",
        "colab": {
          "base_uri": "https://localhost:8080/",
          "height": 1000
        }
      },
      "source": [
        "space = {\n",
        "    'batch-size': hp.quniform('batch-size', 100, 200, 10),\n",
        "    'dropout_cnn_block_one': hp.uniform('dropout_cnn_block_one', 0.3, 0.5),\n",
        "    'dropout_cnn_block_two': hp.uniform('dropout_cnn_block_two', 0.3, 0.5),\n",
        "    'dropout_cnn_block_three': hp.uniform('dropout_cnn_block_three', 0.3, 0.5),\n",
        "\n",
        "    'dropout_dense_block_one': hp.uniform('dropout_dense_block_one', 0.3, 0.7),\n",
        "    'dropout_dense_block_two': hp.uniform('dropout_dense_block_two', 0.3, 0.7),\n",
        "}\n",
        "\n",
        "best = fmin(\n",
        "    func_obj,\n",
        "    space,\n",
        "    tpe.suggest,\n",
        "    30,\n",
        "    Trials()\n",
        ")"
      ],
      "execution_count": 14,
      "outputs": [
        {
          "output_type": "stream",
          "text": [
            "{'batch-size': 180.0, 'dropout_cnn_block_one': 0.38146698139226387, 'dropout_cnn_block_three': 0.4099028423974401, 'dropout_cnn_block_two': 0.4104286471372248, 'dropout_dense_block_one': 0.31434350439589404, 'dropout_dense_block_two': 0.6725895951349019}\n",
            "accuracy=0.9126983880996704\n",
            "{'batch-size': 160.0, 'dropout_cnn_block_one': 0.4008620362632538, 'dropout_cnn_block_three': 0.3150805070945904, 'dropout_cnn_block_two': 0.37499790832792645, 'dropout_dense_block_one': 0.470588631020495, 'dropout_dense_block_two': 0.6627776484653234}\n",
            "accuracy=0.958730161190033\n",
            "{'batch-size': 180.0, 'dropout_cnn_block_one': 0.43048324324924747, 'dropout_cnn_block_three': 0.3223433247657637, 'dropout_cnn_block_two': 0.3241466794260816, 'dropout_dense_block_one': 0.3227651421113225, 'dropout_dense_block_two': 0.41657514080336167}\n",
            "accuracy=0.9498866200447083\n",
            "{'batch-size': 150.0, 'dropout_cnn_block_one': 0.33397968018485946, 'dropout_cnn_block_three': 0.43794442773030956, 'dropout_cnn_block_two': 0.3695729317463269, 'dropout_dense_block_one': 0.3182600352499505, 'dropout_dense_block_two': 0.4116166492886453}\n",
            "accuracy=0.9433106780052185\n",
            "{'batch-size': 100.0, 'dropout_cnn_block_one': 0.482232813439556, 'dropout_cnn_block_three': 0.3659819252625558, 'dropout_cnn_block_two': 0.30708677737101914, 'dropout_dense_block_one': 0.3471963365510715, 'dropout_dense_block_two': 0.3523464959117656}\n",
            "accuracy=0.9580498933792114\n",
            "{'batch-size': 130.0, 'dropout_cnn_block_one': 0.47176085686164404, 'dropout_cnn_block_three': 0.3289872863117691, 'dropout_cnn_block_two': 0.300710144311757, 'dropout_dense_block_one': 0.5378131414650908, 'dropout_dense_block_two': 0.5961266038711919}\n",
            "accuracy=0.9371882081031799\n",
            "{'batch-size': 150.0, 'dropout_cnn_block_one': 0.3617299494149642, 'dropout_cnn_block_three': 0.3210464802994657, 'dropout_cnn_block_two': 0.3227621967805844, 'dropout_dense_block_one': 0.39036894646877496, 'dropout_dense_block_two': 0.4472648406712229}\n",
            "accuracy=0.9666666388511658\n",
            "{'batch-size': 170.0, 'dropout_cnn_block_one': 0.3858605200969074, 'dropout_cnn_block_three': 0.45269235500511845, 'dropout_cnn_block_two': 0.4104907564319365, 'dropout_dense_block_one': 0.4376413986559616, 'dropout_dense_block_two': 0.3677697727141134}\n",
            "accuracy=0.9324263334274292\n",
            "{'batch-size': 120.0, 'dropout_cnn_block_one': 0.46274602532081105, 'dropout_cnn_block_three': 0.3317904384169194, 'dropout_cnn_block_two': 0.40599470820679884, 'dropout_dense_block_one': 0.518035802830251, 'dropout_dense_block_two': 0.45733723981293406}\n",
            "accuracy=0.8845804929733276\n",
            "{'batch-size': 110.0, 'dropout_cnn_block_one': 0.4332330699053494, 'dropout_cnn_block_three': 0.43276924326519667, 'dropout_cnn_block_two': 0.3333278802003512, 'dropout_dense_block_one': 0.5690897912391975, 'dropout_dense_block_two': 0.5897058231316576}\n",
            "accuracy=0.9283446669578552\n",
            "{'batch-size': 140.0, 'dropout_cnn_block_one': 0.328194640056755, 'dropout_cnn_block_three': 0.4691158811943924, 'dropout_cnn_block_two': 0.4208943189456209, 'dropout_dense_block_one': 0.6337335969032223, 'dropout_dense_block_two': 0.5229586881922476}\n",
            "accuracy=0.9233559966087341\n",
            "{'batch-size': 150.0, 'dropout_cnn_block_one': 0.3120032968978726, 'dropout_cnn_block_three': 0.372308493812772, 'dropout_cnn_block_two': 0.3209211374424293, 'dropout_dense_block_one': 0.3227287431267967, 'dropout_dense_block_two': 0.4269578300484564}\n",
            "accuracy=0.96417236328125\n",
            "{'batch-size': 110.0, 'dropout_cnn_block_one': 0.4641881672920039, 'dropout_cnn_block_three': 0.4392260540828313, 'dropout_cnn_block_two': 0.44567272119376233, 'dropout_dense_block_one': 0.6013478241610609, 'dropout_dense_block_two': 0.36728635290018063}\n",
            "accuracy=0.8251700401306152\n",
            "{'batch-size': 180.0, 'dropout_cnn_block_one': 0.3913370335425995, 'dropout_cnn_block_three': 0.4619104395028911, 'dropout_cnn_block_two': 0.4827259614021556, 'dropout_dense_block_one': 0.3144870846232966, 'dropout_dense_block_two': 0.446692406108106}\n",
            "accuracy=0.9138321876525879\n",
            "{'batch-size': 110.0, 'dropout_cnn_block_one': 0.38848725923713506, 'dropout_cnn_block_three': 0.3905183727179833, 'dropout_cnn_block_two': 0.3900516877339849, 'dropout_dense_block_one': 0.5002968727543426, 'dropout_dense_block_two': 0.4921811104676014}\n",
            "accuracy=0.9650793671607971\n",
            "{'batch-size': 120.0, 'dropout_cnn_block_one': 0.3830292111303693, 'dropout_cnn_block_three': 0.3941076723278019, 'dropout_cnn_block_two': 0.36625989704556705, 'dropout_dense_block_one': 0.6140834591703781, 'dropout_dense_block_two': 0.4075482569861941}\n",
            "accuracy=0.9299319982528687\n",
            "{'batch-size': 170.0, 'dropout_cnn_block_one': 0.37858004010908375, 'dropout_cnn_block_three': 0.3266961076406989, 'dropout_cnn_block_two': 0.33944471112641883, 'dropout_dense_block_one': 0.30848680742754114, 'dropout_dense_block_two': 0.43090735748533776}\n",
            "accuracy=0.9714285731315613\n",
            "{'batch-size': 110.0, 'dropout_cnn_block_one': 0.39301938590481367, 'dropout_cnn_block_three': 0.3076401239395271, 'dropout_cnn_block_two': 0.3237343212567885, 'dropout_dense_block_one': 0.565633975738572, 'dropout_dense_block_two': 0.36912676588461985}\n",
            "accuracy=0.9709750413894653\n",
            "{'batch-size': 120.0, 'dropout_cnn_block_one': 0.36549717827233397, 'dropout_cnn_block_three': 0.42338331420751885, 'dropout_cnn_block_two': 0.38832259448394185, 'dropout_dense_block_one': 0.45710148301125475, 'dropout_dense_block_two': 0.4299414548033646}\n",
            "accuracy=0.962358295917511\n",
            "{'batch-size': 180.0, 'dropout_cnn_block_one': 0.34191180540751415, 'dropout_cnn_block_three': 0.4423543033119326, 'dropout_cnn_block_two': 0.4613174934925519, 'dropout_dense_block_one': 0.5432144773189487, 'dropout_dense_block_two': 0.38697561896999305}\n",
            "accuracy=0.9535147547721863\n",
            "{'batch-size': 200.0, 'dropout_cnn_block_one': 0.4120782906047495, 'dropout_cnn_block_three': 0.34591735317121564, 'dropout_cnn_block_two': 0.3468873667978619, 'dropout_dense_block_one': 0.6970712435710915, 'dropout_dense_block_two': 0.3019490047677351}\n",
            "accuracy=0.9056689143180847\n",
            "{'batch-size': 200.0, 'dropout_cnn_block_one': 0.430058184906568, 'dropout_cnn_block_three': 0.49149897542131393, 'dropout_cnn_block_two': 0.34328390523193353, 'dropout_dense_block_one': 0.6801650235333982, 'dropout_dense_block_two': 0.3160760318979593}\n",
            "accuracy=0.8208616971969604\n",
            "{'batch-size': 160.0, 'dropout_cnn_block_one': 0.3598351253408832, 'dropout_cnn_block_three': 0.3041969866567577, 'dropout_cnn_block_two': 0.3518493044315127, 'dropout_dense_block_one': 0.4091782001419549, 'dropout_dense_block_two': 0.500847825833854}\n",
            "accuracy=0.9274376630783081\n",
            "{'batch-size': 190.0, 'dropout_cnn_block_one': 0.4128057293351146, 'dropout_cnn_block_three': 0.3026190373066935, 'dropout_cnn_block_two': 0.30280641618276416, 'dropout_dense_block_one': 0.6479743551099336, 'dropout_dense_block_two': 0.33631300921777574}\n",
            "accuracy=0.9575963616371155\n",
            "{'batch-size': 140.0, 'dropout_cnn_block_one': 0.3031157850124716, 'dropout_cnn_block_three': 0.35159696016811115, 'dropout_cnn_block_two': 0.35750884683230616, 'dropout_dense_block_one': 0.5714851058700691, 'dropout_dense_block_two': 0.5419374090046754}\n",
            "accuracy=0.9653061032295227\n",
            "{'batch-size': 170.0, 'dropout_cnn_block_one': 0.3693871280956972, 'dropout_cnn_block_three': 0.34833898801310287, 'dropout_cnn_block_two': 0.3142235771036562, 'dropout_dense_block_one': 0.3661346193785652, 'dropout_dense_block_two': 0.47832628774652197}\n",
            "accuracy=0.9589568972587585\n",
            "{'batch-size': 160.0, 'dropout_cnn_block_one': 0.4490784480955825, 'dropout_cnn_block_three': 0.3026348972538334, 'dropout_cnn_block_two': 0.3355123972037317, 'dropout_dense_block_one': 0.47216892391057935, 'dropout_dense_block_two': 0.3251789974736633}\n",
            "accuracy=0.9546485543251038\n",
            "{'batch-size': 140.0, 'dropout_cnn_block_one': 0.34889528030361766, 'dropout_cnn_block_three': 0.38054294143136574, 'dropout_cnn_block_two': 0.3817278892022938, 'dropout_dense_block_one': 0.5851913496101651, 'dropout_dense_block_two': 0.5633096643574939}\n",
            "accuracy=0.9283446669578552\n",
            "{'batch-size': 190.0, 'dropout_cnn_block_one': 0.41590481158022474, 'dropout_cnn_block_three': 0.4133559471628936, 'dropout_cnn_block_two': 0.42413477067576927, 'dropout_dense_block_one': 0.6675202883485787, 'dropout_dense_block_two': 0.3832805836453051}\n",
            "accuracy=0.8945578336715698\n",
            "{'batch-size': 170.0, 'dropout_cnn_block_one': 0.3164606205546149, 'dropout_cnn_block_three': 0.33827698216781604, 'dropout_cnn_block_two': 0.3332988087150227, 'dropout_dense_block_one': 0.5362149758966708, 'dropout_dense_block_two': 0.30120101951452655}\n",
            "accuracy=0.9523809552192688\n",
            "100%|██████████| 30/30 [05:54<00:00, 11.82s/it, best loss: -0.9714285731315613]\n"
          ],
          "name": "stdout"
        }
      ]
    },
    {
      "cell_type": "code",
      "metadata": {
        "id": "Abs4QFL9s8Ec",
        "colab_type": "code",
        "colab": {}
      },
      "source": [
        ""
      ],
      "execution_count": 0,
      "outputs": []
    }
  ]
}